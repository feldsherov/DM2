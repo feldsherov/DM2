{
 "cells": [
  {
   "cell_type": "markdown",
   "metadata": {},
   "source": [
    "#Активное обучение"
   ]
  },
  {
   "cell_type": "markdown",
   "metadata": {},
   "source": [
    "По хорошей традиции испортируем все, что понадобится."
   ]
  },
  {
   "cell_type": "code",
   "execution_count": 72,
   "metadata": {
    "collapsed": false
   },
   "outputs": [
    {
     "name": "stdout",
     "output_type": "stream",
     "text": [
      "Populating the interactive namespace from numpy and matplotlib\n"
     ]
    }
   ],
   "source": [
    "import numpy as np\n",
    "from sklearn.linear_model import LogisticRegression\n",
    "from sklearn.metrics import mean_squared_error as mse\n",
    "import pylab as pl\n",
    "%pylab inline\n",
    "\n",
    "from operator import itemgetter\n",
    "\n",
    "COUNT_OF_MODELS = 15"
   ]
  },
  {
   "cell_type": "markdown",
   "metadata": {},
   "source": [
    "Теперь подгрузим данные."
   ]
  },
  {
   "cell_type": "code",
   "execution_count": 16,
   "metadata": {
    "collapsed": false
   },
   "outputs": [],
   "source": [
    "SPAM_TRAIN_PATH = \"../DataSets/spam.train.txt\"\n",
    "SPAM_TEST_PATH = \"../DataSets/spam.test.txt\"\n",
    "\n",
    "train_data = np.loadtxt(SPAM_TRAIN_PATH)\n",
    "train_y, train_x = train_data[::, 0], train_data[::, 1::]\n",
    "test_data = np.loadtxt(SPAM_TEST_PATH)\n",
    "test_y, test_x = test_data[::, 0], test_data[::, 1::]"
   ]
  },
  {
   "cell_type": "markdown",
   "metadata": {},
   "source": [
    "А вот теперь \"активно поучимся\"."
   ]
  },
  {
   "cell_type": "code",
   "execution_count": 96,
   "metadata": {
    "collapsed": false
   },
   "outputs": [],
   "source": [
    "def get_vote_entropy_max(models, x):\n",
    "    ent = np.zeros(x.shape[0])\n",
    "    cnt_md = len(models)\n",
    "    res = np.zeros(x.shape[0] * 2).reshape(x.shape[0], 2)\n",
    "    for i, md in enumerate(models):\n",
    "        res += np.array(md.predict_proba(x))\n",
    "    \n",
    "    res0 = np.array(map(itemgetter(0), res))\n",
    "    res1 = np.array(map(itemgetter(1), res))\n",
    "    \n",
    "    for res_ in (res0, res1):\n",
    "        ent += -(res_ / cnt_md) * np.log(res_ / cnt_md)\n",
    "        \n",
    "    return ent.argmax()\n",
    "\n",
    "def get_addition(x, st):\n",
    "    sz = x.shape[0]\n",
    "    ls = list()\n",
    "    for i in range(sz):\n",
    "        if i not in st:\n",
    "            ls.append(i)\n",
    "    return np.array(ls)"
   ]
  },
  {
   "cell_type": "code",
   "execution_count": 100,
   "metadata": {
    "collapsed": false
   },
   "outputs": [
    {
     "name": "stdout",
     "output_type": "stream",
     "text": [
      "COUNT_STEPS=6954\n",
      "Current step: 100\n",
      "Current step: 200\n",
      "Current step: 300\n",
      "Current step: 400\n",
      "Current step: 500\n",
      "Current step: 600\n",
      "Current step: 700\n",
      "Current step: 800\n",
      "Current step: 900\n",
      "Current step: 1000\n",
      "Current step: 1100\n",
      "Current step: 1200\n",
      "Current step: 1300\n",
      "Current step: 1400\n",
      "Current step: 1500\n",
      "Current step: 1600\n",
      "Current step: 1700\n",
      "Current step: 1800\n",
      "Current step: 1900\n",
      "Current step: 2000\n",
      "Current step: 2100\n",
      "Current step: 2200\n",
      "Current step: 2300\n",
      "Current step: 2400\n",
      "Current step: 2500\n",
      "Current step: 2600\n",
      "Current step: 2700\n",
      "Current step: 2800\n",
      "Current step: 2900\n",
      "Current step: 3000\n",
      "Current step: 3100\n",
      "Current step: 3200\n",
      "Current step: 3300\n",
      "Current step: 3400\n",
      "Current step: 3500\n",
      "Current step: 3600\n",
      "Current step: 3700\n",
      "Current step: 3800\n",
      "Current step: 3900\n",
      "Current step: 4000\n",
      "Current step: 4100\n",
      "Current step: 4200\n",
      "Current step: 4300\n",
      "Current step: 4400\n",
      "Current step: 4500\n",
      "Current step: 4600\n",
      "Current step: 4700\n",
      "Current step: 4800\n",
      "Current step: 4900\n",
      "Current step: 5000\n",
      "Current step: 5100\n",
      "Current step: 5200\n",
      "Current step: 5300\n",
      "Current step: 5400\n",
      "Current step: 5500\n",
      "Current step: 5600\n",
      "Current step: 5700\n",
      "Current step: 5800\n",
      "Current step: 5900\n",
      "Current step: 6000\n",
      "Current step: 6100\n",
      "Current step: 6200\n",
      "Current step: 6300\n",
      "Current step: 6400\n",
      "Current step: 6500\n",
      "Current step: 6600\n",
      "Current step: 6700\n",
      "Current step: 6800\n",
      "Current step: 6900\n"
     ]
    }
   ],
   "source": [
    "models = [LogisticRegression(random_state=i) for i in range(COUNT_OF_MODELS)]\n",
    "current_set = {i for i in range(len(train_data) / 100)} | {len(train_data) - i for i in range(1, len(train_data) / 100)}\n",
    "start_size = len(current_set)\n",
    "\n",
    "COUNT_STEPS = train_x.shape[0] - len(current_set)\n",
    "#COUNT_STEPS = 500\n",
    "\n",
    "\n",
    "error = np.zeros(COUNT_STEPS)\n",
    "check_model = LogisticRegression()\n",
    "\n",
    "print \"COUNT_STEPS=%d\" % COUNT_STEPS\n",
    "\n",
    "for i in range(COUNT_STEPS):\n",
    "    if i > 0 and i % 100 == 0:\n",
    "        print \"Current step: %d\" % i\n",
    "    tr = np.array(list(current_set))\n",
    "    for md in models:\n",
    "        md.fit(train_x[tr], train_y[tr])\n",
    "    \n",
    "    check_model.fit(train_x[tr], train_y[tr])\n",
    "    error[i] = mse(np.array(map(itemgetter(1), check_model.predict_proba(test_x))), test_y) \n",
    "    \n",
    "    add = get_addition(train_x, current_set)\n",
    "    mx = get_vote_entropy_max(models, train_x[add])\n",
    "    current_set.add(add[mx])"
   ]
  },
  {
   "cell_type": "code",
   "execution_count": 101,
   "metadata": {
    "collapsed": true
   },
   "outputs": [],
   "source": [
    "check_model.fit(train_x, train_y)\n",
    "full_data_error = mse(np.array(map(itemgetter(1), check_model.predict_proba(test_x))), test_y)"
   ]
  },
  {
   "cell_type": "code",
   "execution_count": 102,
   "metadata": {
    "collapsed": false
   },
   "outputs": [
    {
     "data": {
      "image/png": "[encoded data removed]",
      "text/plain": [
       "<matplotlib.figure.Figure at 0x10bea1b50>"
      ]
     },
     "metadata": {},
     "output_type": "display_data"
    }
   ],
   "source": [
    "pl.plot(np.arange(start_size, start_size + len(error)), error, label=\"active learning\")\n",
    "pl.axhline(y=full_data_error, color='r', label=\"full train data  error\")\n",
    "pl.legend()\n",
    "pl.show()"
   ]
  },
  {
   "cell_type": "code",
   "execution_count": null,
   "metadata": {
    "collapsed": true
   },
   "outputs": [],
   "source": []
  }
 ],
 "metadata": {
  "kernelspec": {
   "display_name": "Python 2",
   "language": "python",
   "name": "python2"
  },
  "language_info": {
   "codemirror_mode": {
    "name": "ipython",
    "version": 2
   },
   "file_extension": ".py",
   "mimetype": "text/x-python",
   "name": "python",
   "nbconvert_exporter": "python",
   "pygments_lexer": "ipython2",
   "version": "2.7.10"
  }
 },
 "nbformat": 4,
 "nbformat_minor": 0
}
