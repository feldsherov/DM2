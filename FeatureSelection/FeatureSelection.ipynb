{
 "cells": [
  {
   "cell_type": "markdown",
   "metadata": {},
   "source": [
    "# Feature selection"
   ]
  },
  {
   "cell_type": "markdown",
   "metadata": {},
   "source": [
    "Импортируем необходимые библиотеки, считаем данные."
   ]
  },
  {
   "cell_type": "code",
   "execution_count": 1,
   "metadata": {
    "collapsed": false
   },
   "outputs": [],
   "source": [
    "import sys\n",
    "sys.path.append(\"./..\")"
   ]
  },
  {
   "cell_type": "code",
   "execution_count": 2,
   "metadata": {
    "collapsed": false
   },
   "outputs": [],
   "source": [
    "import numpy as np\n",
    "import sklearn\n",
    "import math\n",
    "import matplotlib.pyplot as plt\n",
    "%matplotlib inline  \n",
    "\n",
    "from itertools import chain, combinations\n",
    "\n",
    "from DecisionTree.GradientTreeBoosting import GradientTreeBoosting\n",
    "from DecisionTree.DecisionTreeRegressor import DecisionTreeRegressor"
   ]
  },
  {
   "cell_type": "code",
   "execution_count": 3,
   "metadata": {
    "collapsed": true
   },
   "outputs": [],
   "source": [
    "HOUSING_DATASET_PATH = \"../DataSets/housing.data.txt\""
   ]
  },
  {
   "cell_type": "code",
   "execution_count": 4,
   "metadata": {
    "collapsed": true
   },
   "outputs": [],
   "source": [
    "housing_data = np.loadtxt(HOUSING_DATASET_PATH)\n",
    "np.random.shuffle(housing_data)\n",
    "x, y = housing_data[::, :-1:], housing_data[::, -1]"
   ]
  },
  {
   "cell_type": "code",
   "execution_count": 5,
   "metadata": {
    "collapsed": false
   },
   "outputs": [],
   "source": [
    "first_half = np.array([i < (x.shape[0] / 2) for i in range(x.shape[0])])\n",
    "x_train, y_train = x[first_half], y[first_half]\n",
    "x_test, y_test = x[-first_half], y[-first_half]"
   ]
  },
  {
   "cell_type": "markdown",
   "metadata": {},
   "source": [
    "###Давайте сначала поисследуем полезность фичей для обычного DecisionTree"
   ]
  },
  {
   "cell_type": "code",
   "execution_count": 6,
   "metadata": {
    "collapsed": false
   },
   "outputs": [
    {
     "name": "stdout",
     "output_type": "stream",
     "text": [
      "Sort indexes: \n",
      " [ 5 12  7  0  4 10 11  6  9  8  2  1  3]\n"
     ]
    }
   ],
   "source": [
    "my_tree = DecisionTreeRegressor()\n",
    "my_tree.fit(x_train, y_train)\n",
    "decision_tree_feature_profit = my_tree.get_features_profit(x_train, y_train)\n",
    "features_tree_sort_order = np.argsort(-decision_tree_feature_profit)\n",
    "print \"Sort indexes: \\n %s\" % features_tree_sort_order"
   ]
  },
  {
   "cell_type": "code",
   "execution_count": 21,
   "metadata": {
    "collapsed": false
   },
   "outputs": [],
   "source": [
    "tree_error_embedded = np.zeros(features_tree_sort_order.size + 1)\n",
    "for i in range(1, features_tree_sort_order.size + 1):\n",
    "    my_tree.fit(x_train[::, features_tree_sort_order[:i]], y_train)\n",
    "    prediction = my_tree.predict(x_test[::, features_tree_sort_order[:i]])\n",
    "    tree_error_embedded[i] = sklearn.metrics.mean_squared_error(prediction, y_test)"
   ]
  },
  {
   "cell_type": "code",
   "execution_count": 22,
   "metadata": {
    "collapsed": false
   },
   "outputs": [
    {
     "data": {
      "image/png": "[encoded data removed]",
      "text/plain": [
       "<matplotlib.figure.Figure at 0x106ffca10>"
      ]
     },
     "metadata": {},
     "output_type": "display_data"
    }
   ],
   "source": [
    "plt.plot([i for i in range(1, tree_error_embedded.size)], tree_error_embedded[1:])\n",
    "plt.show()"
   ]
  },
  {
   "cell_type": "markdown",
   "metadata": {},
   "source": [
    "##Посмотрим, как все устроено у бустинга"
   ]
  },
  {
   "cell_type": "code",
   "execution_count": 9,
   "metadata": {
    "collapsed": false
   },
   "outputs": [
    {
     "name": "stdout",
     "output_type": "stream",
     "text": [
      "Sort indexes: \n",
      " [ 5 12  7  0  4 10 11  6  9  8  2  1  3]\n"
     ]
    }
   ],
   "source": [
    "my_boosting = GradientTreeBoosting(count_steps=200, step=1e-1, max_tree_depth=3)\n",
    "my_boosting.fit(x_train, y_train)\n",
    "boosting_features_profit = my_boosting.get_features_profit(x_train, y_train)\n",
    "features_boosting_sort_order = np.argsort(-decision_tree_feature_profit)\n",
    "print \"Sort indexes: \\n %s\" % features_tree_sort_order"
   ]
  },
  {
   "cell_type": "code",
   "execution_count": 10,
   "metadata": {
    "collapsed": false
   },
   "outputs": [],
   "source": [
    "boosting_error_embedded = np.zeros(x.shape[1] + 1)\n",
    "for i in range(1, x.shape[1] + 1):\n",
    "    my_boosting.fit(x_train[::, features_boosting_sort_order[:i]], y_train)\n",
    "    prediction = my_boosting.predict(x_test[::, features_boosting_sort_order[:i]])\n",
    "    boosting_error_embedded[i] = sklearn.metrics.mean_squared_error(prediction, y_test)"
   ]
  },
  {
   "cell_type": "code",
   "execution_count": 11,
   "metadata": {
    "collapsed": false
   },
   "outputs": [
    {
     "data": {
      "image/png": "[encoded data removed]",
      "text/plain": [
       "<matplotlib.figure.Figure at 0x106e06150>"
      ]
     },
     "metadata": {},
     "output_type": "display_data"
    }
   ],
   "source": [
    "plt.plot([i for i in range(1, boosting_error_embedded.size)], boosting_error_embedded[1:])\n",
    "plt.show()"
   ]
  },
  {
   "cell_type": "markdown",
   "metadata": {},
   "source": [
    "##Реализуем CFS"
   ]
  },
  {
   "cell_type": "code",
   "execution_count": 12,
   "metadata": {
    "collapsed": true
   },
   "outputs": [],
   "source": [
    "def powerset(iterable):\n",
    "    \"powerset([1,2,3]) --> () (1,) (2,) (3,) (1,2) (1,3) (2,3) (1,2,3)\"\n",
    "    s = list(iterable)\n",
    "    return chain.from_iterable(combinations(s, r) for r in range(len(s)+1))"
   ]
  },
  {
   "cell_type": "code",
   "execution_count": 13,
   "metadata": {
    "collapsed": false
   },
   "outputs": [],
   "source": [
    "def get_cfs_optimal_set(x, y, k):\n",
    "    feature_correlation = np.array([[abs(np.corrcoef(x[::, i], x[::, j])[1][0]) for j in range(x.shape[1])] \n",
    "                                                                                  for i in range(x.shape[1])])\n",
    "    feature_target_correlation = np.array([abs(np.corrcoef(x[::, i], y)[1][0]) for i in range(x.shape[1])])\n",
    "    \n",
    "    current_max = 0\n",
    "    current_subset = list()\n",
    "    for subset in combinations([i for i in range(x.shape[1])], k):\n",
    "        numerator = sum(feature_target_correlation[i] for i in subset)\n",
    "        denumerator = np.sqrt(len(subset) + 2*sum(feature_correlation[i][j] for i, j in combinations(subset, 2)))\n",
    "        if denumerator > 0 and numerator / denumerator > current_max:\n",
    "            current_max = numerator / denumerator\n",
    "            current_subset = subset\n",
    "    return current_subset"
   ]
  },
  {
   "cell_type": "code",
   "execution_count": 14,
   "metadata": {
    "collapsed": false
   },
   "outputs": [
    {
     "data": {
      "text/plain": [
       "(5, 10, 12)"
      ]
     },
     "execution_count": 14,
     "metadata": {},
     "output_type": "execute_result"
    }
   ],
   "source": [
    "get_cfs_optimal_set(x, y, 3)"
   ]
  },
  {
   "cell_type": "markdown",
   "metadata": {},
   "source": [
    "Забавно, что он включает 2 фичи, которые самые полезные согласно нашему embedded методу!\n",
    "\n",
    "Теперь давайте построим ошибки, которые у нас получаются при отборе фич этим способом."
   ]
  },
  {
   "cell_type": "code",
   "execution_count": 15,
   "metadata": {
    "collapsed": false
   },
   "outputs": [],
   "source": [
    "boosting_error_cfs = np.zeros(x.shape[1] + 1)\n",
    "tree_error_cfs = np.zeros(x.shape[1] + 1)\n",
    "for k in range(1, x.shape[1] + 1):\n",
    "    optimal_k_set = get_cfs_optimal_set(x_train, y_train, k)\n",
    "    # boosting\n",
    "    my_boosting.fit(x_train[::, optimal_k_set], y_train)\n",
    "    prediction = my_boosting.predict(x_test[::, optimal_k_set])\n",
    "    boosting_error_cfs[k] = sklearn.metrics.mean_squared_error(prediction, y_test)\n",
    "    \n",
    "    # tree\n",
    "    my_tree.fit(x_train[::, optimal_k_set], y_train)\n",
    "    prediction = my_tree.predict(x_test[::, optimal_k_set])\n",
    "    tree_error_cfs[k] = sklearn.metrics.mean_squared_error(prediction, y_test)"
   ]
  },
  {
   "cell_type": "markdown",
   "metadata": {},
   "source": [
    "##Теперь для чистоты эксперимента рандом"
   ]
  },
  {
   "cell_type": "code",
   "execution_count": 16,
   "metadata": {
    "collapsed": false
   },
   "outputs": [],
   "source": [
    "random_order = np.array([i for i in range(x.shape[1])])\n",
    "np.random.shuffle(random_order)\n",
    "\n",
    "boosting_error_random = np.zeros(x.shape[1] + 1)\n",
    "tree_error_random = np.zeros(x.shape[1] + 1)\n",
    "for k in range(1, x.shape[1] + 1):\n",
    "    current_k_set = random_order[:k]\n",
    "    # boosting\n",
    "    my_boosting.fit(x_train[::, current_k_set], y_train)\n",
    "    prediction = my_boosting.predict(x_test[::, current_k_set])\n",
    "    boosting_error_random[k] = sklearn.metrics.mean_squared_error(prediction, y_test)\n",
    "    \n",
    "    # tree\n",
    "    my_tree.fit(x_train[::, current_k_set], y_train)\n",
    "    prediction = my_tree.predict(x_test[::, current_k_set])\n",
    "    tree_error_random[k] = sklearn.metrics.mean_squared_error(prediction, y_test)"
   ]
  },
  {
   "cell_type": "markdown",
   "metadata": {},
   "source": [
    "##Теперь построим графики отдельно для дерева и для бустинга, посмотрим как оно вместе"
   ]
  },
  {
   "cell_type": "code",
   "execution_count": 23,
   "metadata": {
    "collapsed": false
   },
   "outputs": [
    {
     "data": {
      "image/png": "[encoded data removed]",
      "text/plain": [
       "<matplotlib.figure.Figure at 0x10784d6d0>"
      ]
     },
     "metadata": {},
     "output_type": "display_data"
    }
   ],
   "source": [
    "f, axarr = plt.subplots(1, 2, figsize=(10, 5), sharey=True)\n",
    "axarr[0].plot([i for i in range(1, boosting_error_embedded.size)], boosting_error_embedded[1:], label=\"embedded\")\n",
    "axarr[0].plot([i for i in range(1, boosting_error_cfs.size)], boosting_error_cfs[1:], label=\"CFS\")\n",
    "axarr[0].plot([i for i in range(1, boosting_error_random.size)], boosting_error_random[1:], label=\"random\")\n",
    "axarr[0].set_title('Boosting')\n",
    "axarr[0].legend()\n",
    "axarr[1].plot([i for i in range(1, tree_error_embedded.size)], tree_error_embedded[1:], label=\"embedded\")\n",
    "axarr[1].plot([i for i in range(1, tree_error_cfs.size)], tree_error_cfs[1:], label=\"CFS\")\n",
    "axarr[1].plot([i for i in range(1, tree_error_random.size)], tree_error_random[1:], label=\"random\")\n",
    "axarr[1].set_title('Tree')\n",
    "axarr[1].legend()\n",
    "f.show()"
   ]
  }
 ],
 "metadata": {
  "kernelspec": {
   "display_name": "Python 2",
   "language": "python",
   "name": "python2"
  },
  "language_info": {
   "codemirror_mode": {
    "name": "ipython",
    "version": 2
   },
   "file_extension": ".py",
   "mimetype": "text/x-python",
   "name": "python",
   "nbconvert_exporter": "python",
   "pygments_lexer": "ipython2",
   "version": "2.7.10"
  }
 },
 "nbformat": 4,
 "nbformat_minor": 0
}
